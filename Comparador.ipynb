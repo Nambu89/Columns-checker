{
 "cells": [
  {
   "cell_type": "code",
   "execution_count": 1,
   "metadata": {},
   "outputs": [],
   "source": [
    "# Importar las librerías\n",
    "import tkinter as tk\n",
    "from tkinter import filedialog, messagebox, simpledialog\n",
    "import pandas as pd"
   ]
  },
  {
   "cell_type": "code",
   "execution_count": 10,
   "metadata": {},
   "outputs": [],
   "source": [
    "# Definir la función para cargar y procesar los archivos\n",
    "def cargar_archivo():\n",
    "    try:\n",
    "        archivo = filedialog.askopenfilename(filetypes=[('Excel files', '*.xlsx'), ('CSV files', '*.csv')])\n",
    "\n",
    "        # Verificar que el archivo haya sido seleccionado\n",
    "        if archivo:\n",
    "            print(f\"Archivo seleccionado: {archivo}\")  # Mensaje de depuración\n",
    "            # Verificar el tipo de archivo y cargarlo en un DataFrame\n",
    "            if archivo.endswith('.xlsx'):\n",
    "                df = pd.read_excel(archivo)\n",
    "            elif archivo.endswith('.csv'):\n",
    "                df = pd.read_csv(archivo)\n",
    "            else:\n",
    "                messagebox.showerror(\"Error\", \"Tipo de archivo no soportado.\")\n",
    "                return \n",
    "            \n",
    "            # Solicitar al usuario las columnas a comparar\n",
    "            columna1 = simpledialog.askstring('Input', 'Ingrese el nombre de la primera columna', parent = root)\n",
    "            columna2 = simpledialog.askstring('Input', 'Ingrese el nombre de la segunda columna', paren t= root)\n",
    "\n",
    "            if columna1 and columna2:\n",
    "                # Mostrar las columnas disponibles para depuración\n",
    "                print(f\"Columnas disponibles: {df.columns.tolist()}\")\n",
    "                \n",
    "                if columna1 in df.columns and columna2 in df.columns:\n",
    "                    # Crear una nueva columna en el DataFrame que indica si hay coincidencias\n",
    "                    df['Coincidencias'] = df[columna1].isin(df[columna2])\n",
    "\n",
    "                    # Abrir un cuadro de diálogo para seleccionar donde guardar el archivo resultante\n",
    "                    save_path = filedialog.asksaveasfilename(defaultextension=\".xlsx\",\n",
    "                                                             filetypes=[('Excel files', '*.xlsx')])\n",
    "                    if save_path:\n",
    "                        df.to_excel(save_path, index=False)\n",
    "                        # Mensaje de éxito\n",
    "                        messagebox.showinfo('Éxito', 'Archivo guardado correctamente')\n",
    "                    else:\n",
    "                        messagebox.showwarning(\"Advertencia\", \"Debe seleccionar una ubicación para guardar el archivo.\")\n",
    "                else:\n",
    "                    messagebox.showerror('Error', 'Las columnas ingresadas no existen en el archivo')\n",
    "            else:\n",
    "                messagebox.showwarning('Advertencia', 'Debes ingresar los nombres de ambas columnas')\n",
    "        else:\n",
    "            messagebox.showwarning('Advertencia', 'Debes seleccionar un archivo')\n",
    "    except Exception as e:\n",
    "        messagebox.showerror('Error', f'Se ha producido un error: {e}')"
   ]
  },
  {
   "cell_type": "code",
   "execution_count": 12,
   "metadata": {},
   "outputs": [
    {
     "name": "stdout",
     "output_type": "stream",
     "text": [
      "Archivo seleccionado: C:/Users/fprada/Downloads/Libro1.xlsx\n",
      "Columnas disponibles: ['Cuenta 1', 'Enlace', 'Empresa', 'si/no', 'Unnamed: 4', 'Unnamed: 5', 'Unnamed: 6', 'Cuenta 2', 'enlace', 'si/no.1', 'Unnamed: 10', 'Unnamed: 11', 'Unnamed: 12', 'Unnamed: 13', 'Unnamed: 14', 'Unnamed: 15', 'Unnamed: 16', 'Unnamed: 17', 'Unnamed: 18', 'Unnamed: 19']\n"
     ]
    }
   ],
   "source": [
    "root = tk.Tk()\n",
    "root.title(\"Comparador de columnas\")\n",
    "root.geometry('400x200')\n",
    "\n",
    "# Crear y ubicar los widgets\n",
    "frame = tk.Frame(root, padx = 10, pady = 10)\n",
    "frame.pack(padx = 10, pady = 10)\n",
    "\n",
    "label = tk.Label(frame, text = 'Seleccione un archivo Excel o CSV para comparar')\n",
    "label.grid(row = 0, column = 0, columnspan = 2, pady = (0, 10))\n",
    "\n",
    "btn_load = tk.Button(frame, text = 'Cargar archivo', command = cargar_archivo)\n",
    "btn_load.grid(row = 1, column = 0, columnspan = 2, pady = 5)\n",
    "\n",
    "root.mainloop()"
   ]
  }
 ],
 "metadata": {
  "kernelspec": {
   "display_name": "Python 3",
   "language": "python",
   "name": "python3"
  },
  "language_info": {
   "codemirror_mode": {
    "name": "ipython",
    "version": 3
   },
   "file_extension": ".py",
   "mimetype": "text/x-python",
   "name": "python",
   "nbconvert_exporter": "python",
   "pygments_lexer": "ipython3",
   "version": "3.12.2"
  }
 },
 "nbformat": 4,
 "nbformat_minor": 2
}
